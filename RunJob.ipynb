{
 "cells": [
  {
   "cell_type": "code",
   "execution_count": null,
   "metadata": {},
   "outputs": [
    {
     "name": "stdout",
     "output_type": "stream",
     "text": [
      "list file\n",
      "list file ending!!!!\n",
      "the num of dataset 58978\n",
      "WARNING:tensorflow:From /home/aat414/deep_final_project/progressive_growing_of_gans_tensorflow/ops.py:126: calling reduce_mean (from tensorflow.python.ops.math_ops) with keep_dims is deprecated and will be removed in a future version.\n",
      "Instructions for updating:\n",
      "keep_dims is deprecated, use keepdims instead\n",
      "discriminator/dis_y_rgb_conv_4/w:0 (1, 1, 3, 512)\n",
      "discriminator/dis_y_rgb_conv_4/biases:0 (512,)\n",
      "discriminator/dis_n_conv_1_4/w:0 (3, 3, 513, 512)\n",
      "discriminator/dis_n_conv_1_4/biases:0 (512,)\n",
      "discriminator/dis_n_conv_2_4/w:0 (4, 4, 512, 512)\n",
      "discriminator/dis_n_conv_2_4/biases:0 (512,)\n",
      "discriminator/dis_n_fully/Matrix:0 (512, 1)\n",
      "discriminator/dis_n_fully/bias:0 (1,)\n",
      "The total para of D 6561793\n",
      "generator/gen_n_1_conv/w:0 (4, 4, 512, 512)\n",
      "generator/gen_n_1_conv/biases:0 (512,)\n",
      "generator/gen_n_2_conv/w:0 (3, 3, 512, 512)\n",
      "generator/gen_n_2_conv/biases:0 (512,)\n",
      "generator/gen_y_rgb_conv_4/w:0 (1, 1, 512, 3)\n",
      "generator/gen_y_rgb_conv_4/biases:0 (3,)\n",
      "The total para of G 6556163\n",
      "d_vars 8\n",
      "g_vars 6\n",
      "self.d_vars_n_read 2\n",
      "self.g_vars_n_read 4\n",
      "d_vars_n_2_rgb 0\n",
      "g_vars_n_2_rgb 0\n",
      "self.g_d_w 7\n",
      "images shuffle1\n",
      "PG 1, step 0: D loss=5.2972026 G loss=-3.1223965, D_or loss=3.5331767, opt_alpha_tra=0.0000000\n",
      "PG 1, step 400: D loss=0.7271345 G loss=-0.5390092, D_or loss=0.4597362, opt_alpha_tra=0.0400000\n",
      "PG 1, step 800: D loss=0.4032785 G loss=-0.8303120, D_or loss=0.1882912, opt_alpha_tra=0.0800000\n",
      "PG 1, step 1200: D loss=-0.0100240 G loss=-0.5213833, D_or loss=-0.1531223, opt_alpha_tra=0.1200000\n",
      "PG 1, step 1600: D loss=0.1829973 G loss=-0.0308062, D_or loss=-0.2766874, opt_alpha_tra=0.1600000\n",
      "PG 1, step 2000: D loss=0.1213091 G loss=-0.4856767, D_or loss=0.0103177, opt_alpha_tra=0.2000000\n",
      "PG 1, step 2400: D loss=0.0633713 G loss=0.1524120, D_or loss=-0.0514723, opt_alpha_tra=0.2400000\n",
      "PG 1, step 2800: D loss=0.3070726 G loss=-0.6310606, D_or loss=0.1780686, opt_alpha_tra=0.2800000\n",
      "PG 1, step 3200: D loss=0.0003597 G loss=-0.2124269, D_or loss=-0.1036124, opt_alpha_tra=0.3200000\n",
      "PG 1, step 3600: D loss=0.3594673 G loss=-0.1547672, D_or loss=0.0279372, opt_alpha_tra=0.3600000\n",
      "PG 1, step 4000: D loss=0.0319137 G loss=-0.0541909, D_or loss=-0.0265027, opt_alpha_tra=0.4000000\n",
      "PG 1, step 4400: D loss=0.2229541 G loss=-0.4616966, D_or loss=-0.0917329, opt_alpha_tra=0.4400000\n",
      "PG 1, step 4800: D loss=0.0308081 G loss=0.0067546, D_or loss=-0.0159637, opt_alpha_tra=0.4800000\n",
      "PG 1, step 5200: D loss=0.1375586 G loss=0.1672800, D_or loss=0.0556388, opt_alpha_tra=0.5200000\n",
      "PG 1, step 5600: D loss=0.1942997 G loss=-0.2081480, D_or loss=0.1429567, opt_alpha_tra=0.5600000\n",
      "PG 1, step 6000: D loss=0.2396287 G loss=0.1082463, D_or loss=0.1400594, opt_alpha_tra=0.6000000\n",
      "PG 1, step 6400: D loss=0.1446714 G loss=0.0097319, D_or loss=-0.0012464, opt_alpha_tra=0.6400000\n",
      "PG 1, step 6800: D loss=0.1053838 G loss=-0.0517878, D_or loss=0.0584737, opt_alpha_tra=0.6800000\n",
      "PG 1, step 7200: D loss=0.2074861 G loss=-0.3215900, D_or loss=0.1231019, opt_alpha_tra=0.7200000\n",
      "PG 1, step 7600: D loss=0.2971746 G loss=-0.5389667, D_or loss=0.2683439, opt_alpha_tra=0.7600000\n"
     ]
    }
   ],
   "source": [
    "%run main.py"
   ]
  }
 ],
 "metadata": {
  "kernelspec": {
   "display_name": "Python 3",
   "language": "python",
   "name": "python3"
  },
  "language_info": {
   "codemirror_mode": {
    "name": "ipython",
    "version": 3
   },
   "file_extension": ".py",
   "mimetype": "text/x-python",
   "name": "python",
   "nbconvert_exporter": "python",
   "pygments_lexer": "ipython3",
   "version": "3.6.3"
  }
 },
 "nbformat": 4,
 "nbformat_minor": 2
}
