{
 "cells": [
  {
   "cell_type": "code",
   "execution_count": null,
   "metadata": {},
   "outputs": [
    {
     "name": "stdout",
     "output_type": "stream",
     "text": [
      "list file\n",
      "list file ending!!!!\n",
      "the num of dataset 58978\n",
      "WARNING:tensorflow:From /home/aat414/deep_final_project/PGGan/ops.py:126: calling reduce_mean (from tensorflow.python.ops.math_ops) with keep_dims is deprecated and will be removed in a future version.\n",
      "Instructions for updating:\n",
      "keep_dims is deprecated, use keepdims instead\n",
      "discriminator/dis_y_rgb_conv_32/w:0 (1, 1, 3, 128)\n",
      "discriminator/dis_y_rgb_conv_32/biases:0 (128,)\n",
      "discriminator/dis_n_conv_1_32/w:0 (3, 3, 128, 128)\n",
      "discriminator/dis_n_conv_1_32/biases:0 (128,)\n",
      "discriminator/dis_n_conv_2_32/w:0 (3, 3, 128, 256)\n",
      "discriminator/dis_n_conv_2_32/biases:0 (256,)\n",
      "discriminator/dis_n_conv_1_16/w:0 (3, 3, 256, 256)\n",
      "discriminator/dis_n_conv_1_16/biases:0 (256,)\n",
      "discriminator/dis_n_conv_2_16/w:0 (3, 3, 256, 512)\n",
      "discriminator/dis_n_conv_2_16/biases:0 (512,)\n",
      "discriminator/dis_n_conv_1_8/w:0 (3, 3, 512, 512)\n",
      "discriminator/dis_n_conv_1_8/biases:0 (512,)\n",
      "discriminator/dis_n_conv_2_8/w:0 (3, 3, 512, 512)\n",
      "discriminator/dis_n_conv_2_8/biases:0 (512,)\n",
      "discriminator/dis_n_conv_1_4/w:0 (3, 3, 513, 512)\n",
      "discriminator/dis_n_conv_1_4/biases:0 (512,)\n",
      "discriminator/dis_n_conv_2_4/w:0 (4, 4, 512, 512)\n",
      "discriminator/dis_n_conv_2_4/biases:0 (512,)\n",
      "discriminator/dis_n_fully/Matrix:0 (512, 1)\n",
      "discriminator/dis_n_fully/bias:0 (1,)\n",
      "The total para of D 13492865\n",
      "generator/gen_n_1_conv/w:0 (4, 4, 512, 512)\n",
      "generator/gen_n_1_conv/biases:0 (512,)\n",
      "generator/gen_n_2_conv/w:0 (3, 3, 512, 512)\n",
      "generator/gen_n_2_conv/biases:0 (512,)\n",
      "generator/gen_n_conv_1_8/w:0 (3, 3, 512, 512)\n",
      "generator/gen_n_conv_1_8/biases:0 (512,)\n",
      "generator/gen_n_conv_2_8/w:0 (3, 3, 512, 512)\n",
      "generator/gen_n_conv_2_8/biases:0 (512,)\n",
      "generator/gen_n_conv_1_16/w:0 (3, 3, 512, 256)\n",
      "generator/gen_n_conv_1_16/biases:0 (256,)\n",
      "generator/gen_n_conv_2_16/w:0 (3, 3, 256, 256)\n",
      "generator/gen_n_conv_2_16/biases:0 (256,)\n",
      "generator/gen_n_conv_1_32/w:0 (3, 3, 256, 128)\n",
      "generator/gen_n_conv_1_32/biases:0 (128,)\n",
      "generator/gen_n_conv_2_32/w:0 (3, 3, 128, 128)\n",
      "generator/gen_n_conv_2_32/biases:0 (128,)\n",
      "generator/gen_y_rgb_conv_32/w:0 (1, 1, 128, 3)\n",
      "generator/gen_y_rgb_conv_32/biases:0 (3,)\n",
      "The total para of G 13487235\n",
      "d_vars 20\n",
      "g_vars 18\n",
      "self.d_vars_n_read 14\n",
      "self.g_vars_n_read 12\n",
      "d_vars_n_2_rgb 0\n",
      "g_vars_n_2_rgb 0\n",
      "self.g_d_w 19\n"
     ]
    }
   ],
   "source": [
    "%run main.py"
   ]
  },
  {
   "cell_type": "code",
   "execution_count": null,
   "metadata": {},
   "outputs": [],
   "source": []
  }
 ],
 "metadata": {
  "kernelspec": {
   "display_name": "Python 3",
   "language": "python",
   "name": "python3"
  },
  "language_info": {
   "codemirror_mode": {
    "name": "ipython",
    "version": 3
   },
   "file_extension": ".py",
   "mimetype": "text/x-python",
   "name": "python",
   "nbconvert_exporter": "python",
   "pygments_lexer": "ipython3",
   "version": "3.6.3"
  }
 },
 "nbformat": 4,
 "nbformat_minor": 2
}
